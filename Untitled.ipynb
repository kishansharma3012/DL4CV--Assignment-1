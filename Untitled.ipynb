{
 "cells": [
  {
   "cell_type": "code",
   "execution_count": 1,
   "metadata": {
    "collapsed": true
   },
   "outputs": [],
   "source": [
    "# A bit of setup\n",
    "\n",
    "import numpy as np\n",
    "import matplotlib.pyplot as plt\n",
    "\n",
    "from dl4cv.classifiers.neural_net import TwoLayerNet\n",
    "\n",
    "%matplotlib inline\n",
    "plt.rcParams['figure.figsize'] = (10.0, 8.0) # set default size of plots\n",
    "plt.rcParams['image.interpolation'] = 'nearest'\n",
    "plt.rcParams['image.cmap'] = 'gray'\n",
    "\n",
    "# for auto-reloading external modules\n",
    "# see http://stackoverflow.com/questions/1907993/autoreload-of-modules-in-ipython\n",
    "%load_ext autoreload\n",
    "%autoreload 2\n",
    "\n",
    "def rel_error(x, y):\n",
    "  \"\"\" returns relative error \"\"\"\n",
    "  return np.max(np.abs(x - y) / (np.maximum(1e-8, np.abs(x) + np.abs(y))))"
   ]
  },
  {
   "cell_type": "code",
   "execution_count": 22,
   "metadata": {
    "collapsed": false
   },
   "outputs": [
    {
     "data": {
      "text/plain": [
       "(3, 8)"
      ]
     },
     "execution_count": 22,
     "metadata": {},
     "output_type": "execute_result"
    }
   ],
   "source": [
    "import numpy as np\n",
    "X = np.zeros((3,2,2,2))\n",
    "Y = np.reshape(X,(X.shape[0],-1))\n",
    "Y.shape\n",
    "\n"
   ]
  },
  {
   "cell_type": "code",
   "execution_count": 2,
   "metadata": {
    "collapsed": true
   },
   "outputs": [],
   "source": [
    "# Create a small net and some toy data to check your implementations.\n",
    "# Note that we set the random seed for repeatable experiments.\n",
    "\n",
    "input_size = 4\n",
    "hidden_size = 10\n",
    "num_classes = 3\n",
    "num_inputs = 5\n",
    "\n",
    "def init_toy_model():\n",
    "  np.random.seed(0)\n",
    "  return TwoLayerNet(input_size, hidden_size, num_classes, std=1e-1)\n",
    "\n",
    "def init_toy_data():\n",
    "  np.random.seed(1)\n",
    "  X = 10 * np.random.randn(num_inputs, input_size)\n",
    "  y = np.array([0, 1, 2, 2, 1])\n",
    "  return X, y\n",
    "\n",
    "net = init_toy_model()\n",
    "X, y = init_toy_data()"
   ]
  },
  {
   "cell_type": "code",
   "execution_count": 8,
   "metadata": {
    "collapsed": false
   },
   "outputs": [],
   "source": [
    "std = 1e-1\n",
    "W1 = std * np.random.randn(input_size, hidden_size)\n",
    "b1 = np.zeros(hidden_size)\n",
    "W2 = std * np.random.randn(hidden_size, num_classes)\n",
    "b2 = np.zeros(num_classes)"
   ]
  },
  {
   "cell_type": "code",
   "execution_count": 20,
   "metadata": {
    "collapsed": true
   },
   "outputs": [],
   "source": [
    "scores = None\n",
    "hidden_layer = np.maximum(0,X.dot(W1)+b1)\n",
    "scores = hidden_layer.dot(W2) + b2\n"
   ]
  },
  {
   "cell_type": "code",
   "execution_count": 21,
   "metadata": {
    "collapsed": false
   },
   "outputs": [
    {
     "data": {
      "text/plain": [
       "array([[ 0.22821849,  0.74070957,  0.76814564],\n",
       "       [-0.52946699, -0.0556803 ,  0.23713261],\n",
       "       [-0.30383779, -0.15451098,  0.25903793],\n",
       "       [-0.33393053, -0.23718961,  0.03537417],\n",
       "       [-0.20781756,  0.18432376,  0.06046585]])"
      ]
     },
     "execution_count": 21,
     "metadata": {},
     "output_type": "execute_result"
    }
   ],
   "source": [
    "scores"
   ]
  },
  {
   "cell_type": "code",
   "execution_count": 22,
   "metadata": {
    "collapsed": true
   },
   "outputs": [],
   "source": [
    "K = np.array(range(0,scores.shape[1]))\n",
    "y.resize(y.shape[0],1)"
   ]
  },
  {
   "cell_type": "code",
   "execution_count": 53,
   "metadata": {
    "collapsed": false
   },
   "outputs": [
    {
     "data": {
      "text/plain": [
       "array([[1, 0, 0],\n",
       "       [0, 1, 0],\n",
       "       [0, 0, 1],\n",
       "       [0, 0, 1],\n",
       "       [0, 1, 0]])"
      ]
     },
     "execution_count": 53,
     "metadata": {},
     "output_type": "execute_result"
    }
   ],
   "source": [
    "L = np.zeros_like(scores)\n",
    "L = (y == K).astype(int)\n",
    "L"
   ]
  },
  {
   "cell_type": "code",
   "execution_count": 25,
   "metadata": {
    "collapsed": false
   },
   "outputs": [],
   "source": [
    "temp = np.exp(scores)\n",
    "A = np.sum(temp,axis=1)\n",
    "B = temp"
   ]
  },
  {
   "cell_type": "code",
   "execution_count": 54,
   "metadata": {
    "collapsed": false
   },
   "outputs": [
    {
     "data": {
      "text/plain": [
       "array([[ 0.22803319,  0.3806888 ,  0.39127801],\n",
       "       [ 0.2101503 ,  0.33751491,  0.45233479],\n",
       "       [ 0.25531264,  0.29643134,  0.44825602],\n",
       "       [ 0.28182484,  0.31045118,  0.40772398],\n",
       "       [ 0.26400099,  0.39076024,  0.34523877]])"
      ]
     },
     "execution_count": 54,
     "metadata": {},
     "output_type": "execute_result"
    }
   ],
   "source": [
    "H = B/A[:,None]\n",
    "H"
   ]
  },
  {
   "cell_type": "code",
   "execution_count": 55,
   "metadata": {
    "collapsed": false
   },
   "outputs": [
    {
     "data": {
      "text/plain": [
       "1.0662114766004585"
      ]
     },
     "execution_count": 55,
     "metadata": {},
     "output_type": "execute_result"
    }
   ],
   "source": [
    "reg=0.1\n",
    "loss =  -(1.0/float(X.shape[0]))*np.sum(L*np.log(H)) + 0.5*reg*(np.sum(W1*W1)) +0.5*reg*(np.sum(W2*W2))\n",
    "loss"
   ]
  },
  {
   "cell_type": "code",
   "execution_count": 56,
   "metadata": {
    "collapsed": false
   },
   "outputs": [
    {
     "data": {
      "text/plain": [
       "array([[-0.77196681,  0.3806888 ,  0.39127801],\n",
       "       [ 0.2101503 , -0.66248509,  0.45233479],\n",
       "       [ 0.25531264,  0.29643134, -0.55174398],\n",
       "       [ 0.28182484,  0.31045118, -0.59227602],\n",
       "       [ 0.26400099, -0.60923976,  0.34523877]])"
      ]
     },
     "execution_count": 56,
     "metadata": {},
     "output_type": "execute_result"
    }
   ],
   "source": [
    "grads = {}\n",
    "H-L"
   ]
  },
  {
   "cell_type": "code",
   "execution_count": 33,
   "metadata": {
    "collapsed": true
   },
   "outputs": [],
   "source": [
    "dtemp = (1.0/float(X.shape[0]))*(H-L)"
   ]
  },
  {
   "cell_type": "code",
   "execution_count": 34,
   "metadata": {
    "collapsed": false
   },
   "outputs": [
    {
     "data": {
      "text/plain": [
       "array([[-0.15439336,  0.07613776,  0.0782556 ],\n",
       "       [ 0.04203006, -0.13249702,  0.09046696],\n",
       "       [ 0.05106253,  0.05928627, -0.1103488 ],\n",
       "       [ 0.05636497,  0.06209024, -0.1184552 ],\n",
       "       [ 0.0528002 , -0.12184795,  0.06904775]])"
      ]
     },
     "execution_count": 34,
     "metadata": {},
     "output_type": "execute_result"
    }
   ],
   "source": [
    "dtemp"
   ]
  },
  {
   "cell_type": "code",
   "execution_count": 35,
   "metadata": {
    "collapsed": true
   },
   "outputs": [],
   "source": [
    "dW2 = hidden_layer.T.dot(dtemp) + reg*W2\n",
    "db2 =  np.sum(dtemp,axis=0,keepdims= True)"
   ]
  },
  {
   "cell_type": "code",
   "execution_count": 36,
   "metadata": {
    "collapsed": false
   },
   "outputs": [
    {
     "data": {
      "text/plain": [
       "array([[ 0.0506531 , -0.11048115,  0.06994206],\n",
       "       [-0.43208156,  0.14683884,  0.28639126],\n",
       "       [-0.33944695,  0.15241529,  0.23540188],\n",
       "       [ 0.44431204, -0.39358635, -0.08417645],\n",
       "       [-0.13013306, -0.1399467 ,  0.28359817],\n",
       "       [ 0.00322205, -0.05716432,  0.03893796],\n",
       "       [ 0.1722221 , -0.46118525,  0.29666093],\n",
       "       [ 0.22554845, -0.13792205, -0.08366785],\n",
       "       [ 0.001983  ,  0.00119009, -0.00670662],\n",
       "       [ 0.00377564,  0.00121821,  0.01129484]])"
      ]
     },
     "execution_count": 36,
     "metadata": {},
     "output_type": "execute_result"
    }
   ],
   "source": [
    "dW2"
   ]
  },
  {
   "cell_type": "code",
   "execution_count": 37,
   "metadata": {
    "collapsed": false
   },
   "outputs": [
    {
     "data": {
      "text/plain": [
       "array([[ 0.04786439, -0.05683071,  0.00896632]])"
      ]
     },
     "execution_count": 37,
     "metadata": {},
     "output_type": "execute_result"
    }
   ],
   "source": [
    "db2"
   ]
  },
  {
   "cell_type": "code",
   "execution_count": 40,
   "metadata": {
    "collapsed": false
   },
   "outputs": [
    {
     "data": {
      "text/plain": [
       "array([[ 0.02520042,  0.00773043,  0.01120329,  0.00661809,  0.00667011,\n",
       "         0.03536944,  0.00050943,  0.00772889, -0.00740382,  0.00393703],\n",
       "       [-0.01513055, -0.00840928,  0.00439136,  0.00870085, -0.00808089,\n",
       "         0.00304822, -0.01114067,  0.00039394, -0.00681065,  0.0101909 ],\n",
       "       [-0.00208448,  0.00220803, -0.00932875, -0.01012576,  0.00252867,\n",
       "        -0.02127784,  0.00814597, -0.00444394,  0.0091188 , -0.00981355],\n",
       "       [-0.00254899,  0.00224821, -0.01007427, -0.01086222,  0.00260334,\n",
       "        -0.02310715,  0.00866187, -0.00483048,  0.00980099, -0.0104948 ],\n",
       "       [-0.01570751, -0.00804824,  0.00254728,  0.00673948, -0.00765155,\n",
       "        -0.00122925, -0.00960517, -0.0005019 , -0.00503384,  0.00830801]])"
      ]
     },
     "execution_count": 40,
     "metadata": {},
     "output_type": "execute_result"
    }
   ],
   "source": [
    "dh = dtemp.dot(W2.T)\n",
    "dh"
   ]
  },
  {
   "cell_type": "code",
   "execution_count": 41,
   "metadata": {
    "collapsed": true
   },
   "outputs": [],
   "source": [
    "dh[hidden_layer <= 0] = 0\n",
    "\n",
    "db1 = np.sum(dh, axis=0,keepdims= True)"
   ]
  },
  {
   "cell_type": "code",
   "execution_count": 47,
   "metadata": {
    "collapsed": false
   },
   "outputs": [],
   "source": [
    "dW1 = X.T.dot(dh) + reg*W1"
   ]
  },
  {
   "cell_type": "code",
   "execution_count": 49,
   "metadata": {
    "collapsed": false
   },
   "outputs": [],
   "source": [
    "db1 = np.sum(dh, axis=0,keepdims= True)"
   ]
  },
  {
   "cell_type": "code",
   "execution_count": 50,
   "metadata": {
    "collapsed": false
   },
   "outputs": [
    {
     "data": {
      "text/plain": [
       "array([[-0.03338706, -0.00067885, -0.00380837,  0.00107044, -0.00393031,\n",
       "        -0.00122925, -0.02074584, -0.00938238,  0.        ,  0.        ]])"
      ]
     },
     "execution_count": 50,
     "metadata": {},
     "output_type": "execute_result"
    }
   ],
   "source": [
    "db1"
   ]
  },
  {
   "cell_type": "code",
   "execution_count": 51,
   "metadata": {
    "collapsed": true
   },
   "outputs": [],
   "source": []
  },
  {
   "cell_type": "code",
   "execution_count": 52,
   "metadata": {
    "collapsed": true
   },
   "outputs": [],
   "source": [
    "dW1"
   ]
  },
  {
   "cell_type": "code",
   "execution_count": 57,
   "metadata": {
    "collapsed": false
   },
   "outputs": [
    {
     "data": {
      "text/plain": [
       "-2.3025850929940455"
      ]
     },
     "execution_count": 57,
     "metadata": {},
     "output_type": "execute_result"
    }
   ],
   "source": [
    "np.log(0.1)"
   ]
  },
  {
   "cell_type": "code",
   "execution_count": 3,
   "metadata": {
    "collapsed": false
   },
   "outputs": [],
   "source": [
    "import numpy as np\n",
    "X = np.ones((5,1))\n"
   ]
  },
  {
   "cell_type": "code",
   "execution_count": 13,
   "metadata": {
    "collapsed": false
   },
   "outputs": [],
   "source": [
    "Y = np.zeros((X.shape))"
   ]
  },
  {
   "cell_type": "code",
   "execution_count": 14,
   "metadata": {
    "collapsed": false
   },
   "outputs": [
    {
     "data": {
      "text/plain": [
       "array([[ 0.],\n",
       "       [ 0.],\n",
       "       [ 0.],\n",
       "       [ 0.],\n",
       "       [ 0.]])"
      ]
     },
     "execution_count": 14,
     "metadata": {},
     "output_type": "execute_result"
    }
   ],
   "source": [
    "Y"
   ]
  },
  {
   "cell_type": "code",
   "execution_count": null,
   "metadata": {
    "collapsed": true
   },
   "outputs": [],
   "source": []
  }
 ],
 "metadata": {
  "kernelspec": {
   "display_name": "Python 2",
   "language": "python",
   "name": "python2"
  },
  "language_info": {
   "codemirror_mode": {
    "name": "ipython",
    "version": 2
   },
   "file_extension": ".py",
   "mimetype": "text/x-python",
   "name": "python",
   "nbconvert_exporter": "python",
   "pygments_lexer": "ipython2",
   "version": "2.7.13"
  }
 },
 "nbformat": 4,
 "nbformat_minor": 2
}
